{
 "cells": [
  {
   "cell_type": "markdown",
   "metadata": {},
   "source": [
    "# 1- Import the needed library"
   ]
  },
  {
   "cell_type": "code",
   "execution_count": 1,
   "metadata": {},
   "outputs": [
    {
     "name": "stderr",
     "output_type": "stream",
     "text": [
      "[nltk_data] Downloading package stopwords to\n",
      "[nltk_data]     C:\\Users\\GEM001\\AppData\\Roaming\\nltk_data...\n",
      "[nltk_data]   Package stopwords is already up-to-date!\n"
     ]
    },
    {
     "data": {
      "text/plain": [
       "True"
      ]
     },
     "execution_count": 1,
     "metadata": {},
     "output_type": "execute_result"
    }
   ],
   "source": [
    "import numpy as np\n",
    "import pandas as pd\n",
    "import re\n",
    "import nltk\n",
    "from nltk.corpus import stopwords\n",
    "from nltk.stem import WordNetLemmatizer \n",
    "import string\n",
    "from sklearn.preprocessing import MultiLabelBinarizer\n",
    "from sklearn.feature_extraction.text import TfidfVectorizer\n",
    "from sklearn.model_selection import train_test_split\n",
    "from sklearn.pipeline import Pipeline\n",
    "from skmultilearn.problem_transform import ClassifierChain\n",
    "from sklearn.metrics import classification_report\n",
    "from sklearn.metrics import accuracy_score\n",
    "from sklearn.metrics import f1_score\n",
    "from sklearn.metrics import recall_score\n",
    "from sklearn.metrics import precision_score\n",
    "from sklearn.multiclass import OneVsRestClassifier\n",
    "from sklearn.naive_bayes import MultinomialNB\n",
    "from sklearn.svm import LinearSVC\n",
    "from sklearn.linear_model import SGDClassifier,LogisticRegression\n",
    "from sklearn.neural_network import MLPClassifier\n",
    "from imblearn.over_sampling import SMOTE\n",
    "%matplotlib inline\n",
    "from sklearn import tree\n",
    "import matplotlib\n",
    "from collections import Counter\n",
    "import matplotlib.pyplot as plt\n",
    "from sklearn.ensemble import RandomForestClassifier\n",
    "from sklearn import svm\n",
    "from sklearn.model_selection import GridSearchCV\n",
    "from sklearn.model_selection import cross_val_score\n",
    "\n",
    "from keras.models import Sequential\n",
    "from keras import layers\n",
    "nltk.download('stopwords')"
   ]
  },
  {
   "cell_type": "markdown",
   "metadata": {},
   "source": [
    "# 2-Read the csv File and Drop null values"
   ]
  },
  {
   "cell_type": "code",
   "execution_count": 2,
   "metadata": {},
   "outputs": [],
   "source": [
    "dfref =  pd.read_excel(r'C:\\Users\\GEM001\\Downloads\\rec.xlsx')"
   ]
  },
  {
   "cell_type": "code",
   "execution_count": 3,
   "metadata": {},
   "outputs": [
    {
     "name": "stdout",
     "output_type": "stream",
     "text": [
      "(6881, 3)\n"
     ]
    },
    {
     "data": {
      "text/html": [
       "<div>\n",
       "<style scoped>\n",
       "    .dataframe tbody tr th:only-of-type {\n",
       "        vertical-align: middle;\n",
       "    }\n",
       "\n",
       "    .dataframe tbody tr th {\n",
       "        vertical-align: top;\n",
       "    }\n",
       "\n",
       "    .dataframe thead th {\n",
       "        text-align: right;\n",
       "    }\n",
       "</style>\n",
       "<table border=\"1\" class=\"dataframe\">\n",
       "  <thead>\n",
       "    <tr style=\"text-align: right;\">\n",
       "      <th></th>\n",
       "      <th>REFACTORINGS (LABELS)</th>\n",
       "      <th>FEATURE REQUEST</th>\n",
       "      <th>SMELLS</th>\n",
       "    </tr>\n",
       "  </thead>\n",
       "  <tbody>\n",
       "    <tr>\n",
       "      <th>count</th>\n",
       "      <td>6881</td>\n",
       "      <td>6881</td>\n",
       "      <td>6866</td>\n",
       "    </tr>\n",
       "    <tr>\n",
       "      <th>unique</th>\n",
       "      <td>572</td>\n",
       "      <td>6881</td>\n",
       "      <td>68</td>\n",
       "    </tr>\n",
       "    <tr>\n",
       "      <th>top</th>\n",
       "      <td>Extract Method,</td>\n",
       "      <td>[DB optimization] revisit eagerLoadState at pl...</td>\n",
       "      <td>Duplicated Code, Long Method, ,</td>\n",
       "    </tr>\n",
       "    <tr>\n",
       "      <th>freq</th>\n",
       "      <td>1826</td>\n",
       "      <td>1</td>\n",
       "      <td>2985</td>\n",
       "    </tr>\n",
       "  </tbody>\n",
       "</table>\n",
       "</div>"
      ],
      "text/plain": [
       "       REFACTORINGS (LABELS)  \\\n",
       "count                   6881   \n",
       "unique                   572   \n",
       "top          Extract Method,   \n",
       "freq                    1826   \n",
       "\n",
       "                                          FEATURE REQUEST  \\\n",
       "count                                                6881   \n",
       "unique                                               6881   \n",
       "top     [DB optimization] revisit eagerLoadState at pl...   \n",
       "freq                                                    1   \n",
       "\n",
       "                                  SMELLS  \n",
       "count                               6866  \n",
       "unique                                68  \n",
       "top     Duplicated Code, Long Method, ,   \n",
       "freq                                2985  "
      ]
     },
     "execution_count": 3,
     "metadata": {},
     "output_type": "execute_result"
    }
   ],
   "source": [
    "dfref.dropna(subset = [\"FEATURE REQUEST\"], inplace=True)\n",
    "dfref = dfref.drop_duplicates(subset=['FEATURE REQUEST'])\n",
    "print(dfref.shape)\n",
    "dfref.describe()"
   ]
  },
  {
   "cell_type": "markdown",
   "metadata": {},
   "source": [
    "# 3- Generic function to convert the dataset into binary form"
   ]
  },
  {
   "cell_type": "code",
   "execution_count": 4,
   "metadata": {},
   "outputs": [],
   "source": [
    "def createArrayOfLabels(df):\n",
    "    mlb = MultiLabelBinarizer()\n",
    "    tempdf = pd.DataFrame(columns=['labels'])\n",
    "    for i in df:\n",
    "        temp = []\n",
    "        try:\n",
    "            i = i.replace(' ','')\n",
    "            for j in i.split(','):\n",
    "                if j != '':\n",
    "                    temp.append(j.strip())\n",
    "        except:\n",
    "            pass\n",
    "        tempdf = tempdf.append(pd.DataFrame({'labels': [temp]}))\n",
    "        \n",
    "    tempdf.apply(lambda x: tuple(x.values))\n",
    "    mlb.fit(tempdf['labels'])\n",
    "    tempdf = mlb.transform(tempdf['labels'])\n",
    "    tempdf = pd.DataFrame(tempdf,columns =list(mlb.classes_) )\n",
    "    return tempdf\n",
    "\n",
    "\n"
   ]
  },
  {
   "cell_type": "markdown",
   "metadata": {},
   "source": [
    "# 4-Generic function use for Data pre-processing"
   ]
  },
  {
   "cell_type": "code",
   "execution_count": 5,
   "metadata": {},
   "outputs": [],
   "source": [
    "def preprocess(x):\n",
    "    try:\n",
    "        stop_words = stopwords.words('english')\n",
    "        lemmatizer = WordNetLemmatizer() \n",
    "        x = x.lower()\n",
    "        x = x.translate(str.maketrans('', '', string.punctuation))\n",
    "        x = x.split()\n",
    "        x = [word for word in x if word not in stop_words]\n",
    "        x = [lemmatizer.lemmatize(word) for word in x]\n",
    "        x = str(x).replace(',',' ').replace(\"'\",\"\")[1:-1]\n",
    "        return x\n",
    "    except:\n",
    "        print(f'There is an error in {x}')\n",
    "        return 'empty'\n",
    "    \n",
    "    "
   ]
  },
  {
   "cell_type": "markdown",
   "metadata": {},
   "source": [
    "# 5-Apply data binarization methods"
   ]
  },
  {
   "cell_type": "code",
   "execution_count": 6,
   "metadata": {},
   "outputs": [],
   "source": [
    "smells = createArrayOfLabels(dfref['SMELLS'])"
   ]
  },
  {
   "cell_type": "code",
   "execution_count": 7,
   "metadata": {},
   "outputs": [],
   "source": [
    "labels = createArrayOfLabels(dfref['REFACTORINGS (LABELS)'])\n"
   ]
  },
  {
   "cell_type": "markdown",
   "metadata": {},
   "source": [
    "# 6- Concatenate dataframes (The binarization columns with FEATURE REQUEST column)"
   ]
  },
  {
   "cell_type": "code",
   "execution_count": 8,
   "metadata": {},
   "outputs": [],
   "source": [
    "dfref = dfref.reset_index(drop=True)\n",
    "tocsv = pd.concat([dfref, smells, labels], axis = 1)"
   ]
  },
  {
   "cell_type": "markdown",
   "metadata": {},
   "source": [
    "# 7- This step for FEATURE REQUEST column and apply  preprocessing method"
   ]
  },
  {
   "cell_type": "code",
   "execution_count": 9,
   "metadata": {},
   "outputs": [],
   "source": [
    "tocsv.dropna(subset = [\"FEATURE REQUEST\"], inplace=True)\n",
    "tocsv = tocsv.drop(columns=['REFACTORINGS (LABELS)', 'SMELLS'])\n",
    "tocsv['FEATURE REQUEST'] = tocsv['FEATURE REQUEST'].apply(preprocess)\n",
    "tocsv.to_csv(r'C:refPreprocessed.csv')"
   ]
  },
  {
   "cell_type": "code",
   "execution_count": 10,
   "metadata": {},
   "outputs": [
    {
     "data": {
      "text/html": [
       "<div>\n",
       "<style scoped>\n",
       "    .dataframe tbody tr th:only-of-type {\n",
       "        vertical-align: middle;\n",
       "    }\n",
       "\n",
       "    .dataframe tbody tr th {\n",
       "        vertical-align: top;\n",
       "    }\n",
       "\n",
       "    .dataframe thead th {\n",
       "        text-align: right;\n",
       "    }\n",
       "</style>\n",
       "<table border=\"1\" class=\"dataframe\">\n",
       "  <thead>\n",
       "    <tr style=\"text-align: right;\">\n",
       "      <th></th>\n",
       "      <th>Unnamed: 0</th>\n",
       "      <th>FEATURE REQUEST</th>\n",
       "      <th>DuplicatedCode</th>\n",
       "      <th>LargeClass</th>\n",
       "      <th>LongMethod</th>\n",
       "      <th>ExtractInterface</th>\n",
       "      <th>ExtractMethod</th>\n",
       "      <th>ExtractSuperclass</th>\n",
       "      <th>InlineMethod</th>\n",
       "      <th>MoveAndRenameClass</th>\n",
       "      <th>MoveAttribute</th>\n",
       "      <th>MoveClass</th>\n",
       "      <th>MoveMethod</th>\n",
       "      <th>PullUpAttribute</th>\n",
       "      <th>PullUpMethod</th>\n",
       "      <th>PushDownAttribute</th>\n",
       "      <th>PushDownMethod</th>\n",
       "      <th>RenameClass</th>\n",
       "      <th>RenameMethod</th>\n",
       "    </tr>\n",
       "  </thead>\n",
       "  <tbody>\n",
       "    <tr>\n",
       "      <th>0</th>\n",
       "      <td>0</td>\n",
       "      <td>add  relmetadataprovider  parameter  standard ...</td>\n",
       "      <td>1</td>\n",
       "      <td>0</td>\n",
       "      <td>1</td>\n",
       "      <td>0</td>\n",
       "      <td>1</td>\n",
       "      <td>0</td>\n",
       "      <td>0</td>\n",
       "      <td>0</td>\n",
       "      <td>0</td>\n",
       "      <td>0</td>\n",
       "      <td>0</td>\n",
       "      <td>0</td>\n",
       "      <td>0</td>\n",
       "      <td>0</td>\n",
       "      <td>0</td>\n",
       "      <td>0</td>\n",
       "      <td>0</td>\n",
       "    </tr>\n",
       "    <tr>\n",
       "      <th>1</th>\n",
       "      <td>1</td>\n",
       "      <td>allowing  sqloperator  overridden  validation ...</td>\n",
       "      <td>1</td>\n",
       "      <td>0</td>\n",
       "      <td>1</td>\n",
       "      <td>0</td>\n",
       "      <td>1</td>\n",
       "      <td>0</td>\n",
       "      <td>0</td>\n",
       "      <td>0</td>\n",
       "      <td>0</td>\n",
       "      <td>0</td>\n",
       "      <td>0</td>\n",
       "      <td>0</td>\n",
       "      <td>0</td>\n",
       "      <td>0</td>\n",
       "      <td>0</td>\n",
       "      <td>0</td>\n",
       "      <td>1</td>\n",
       "    </tr>\n",
       "    <tr>\n",
       "      <th>2</th>\n",
       "      <td>2</td>\n",
       "      <td>add  support  translate  expession  fromstring...</td>\n",
       "      <td>0</td>\n",
       "      <td>0</td>\n",
       "      <td>0</td>\n",
       "      <td>0</td>\n",
       "      <td>0</td>\n",
       "      <td>0</td>\n",
       "      <td>0</td>\n",
       "      <td>0</td>\n",
       "      <td>1</td>\n",
       "      <td>0</td>\n",
       "      <td>0</td>\n",
       "      <td>0</td>\n",
       "      <td>0</td>\n",
       "      <td>0</td>\n",
       "      <td>0</td>\n",
       "      <td>0</td>\n",
       "      <td>0</td>\n",
       "    </tr>\n",
       "    <tr>\n",
       "      <th>3</th>\n",
       "      <td>3</td>\n",
       "      <td>extend  simplify  reducing  expression  would ...</td>\n",
       "      <td>1</td>\n",
       "      <td>0</td>\n",
       "      <td>1</td>\n",
       "      <td>0</td>\n",
       "      <td>1</td>\n",
       "      <td>0</td>\n",
       "      <td>0</td>\n",
       "      <td>0</td>\n",
       "      <td>0</td>\n",
       "      <td>0</td>\n",
       "      <td>0</td>\n",
       "      <td>0</td>\n",
       "      <td>0</td>\n",
       "      <td>0</td>\n",
       "      <td>0</td>\n",
       "      <td>0</td>\n",
       "      <td>0</td>\n",
       "    </tr>\n",
       "    <tr>\n",
       "      <th>4</th>\n",
       "      <td>4</td>\n",
       "      <td>add  support  timestampadd  timestampdiff  fun...</td>\n",
       "      <td>1</td>\n",
       "      <td>0</td>\n",
       "      <td>1</td>\n",
       "      <td>0</td>\n",
       "      <td>1</td>\n",
       "      <td>0</td>\n",
       "      <td>0</td>\n",
       "      <td>0</td>\n",
       "      <td>0</td>\n",
       "      <td>0</td>\n",
       "      <td>1</td>\n",
       "      <td>0</td>\n",
       "      <td>0</td>\n",
       "      <td>1</td>\n",
       "      <td>0</td>\n",
       "      <td>0</td>\n",
       "      <td>1</td>\n",
       "    </tr>\n",
       "    <tr>\n",
       "      <th>...</th>\n",
       "      <td>...</td>\n",
       "      <td>...</td>\n",
       "      <td>...</td>\n",
       "      <td>...</td>\n",
       "      <td>...</td>\n",
       "      <td>...</td>\n",
       "      <td>...</td>\n",
       "      <td>...</td>\n",
       "      <td>...</td>\n",
       "      <td>...</td>\n",
       "      <td>...</td>\n",
       "      <td>...</td>\n",
       "      <td>...</td>\n",
       "      <td>...</td>\n",
       "      <td>...</td>\n",
       "      <td>...</td>\n",
       "      <td>...</td>\n",
       "      <td>...</td>\n",
       "      <td>...</td>\n",
       "    </tr>\n",
       "    <tr>\n",
       "      <th>6876</th>\n",
       "      <td>6876</td>\n",
       "      <td>optionally  provide  schema  information  attr...</td>\n",
       "      <td>0</td>\n",
       "      <td>0</td>\n",
       "      <td>0</td>\n",
       "      <td>0</td>\n",
       "      <td>0</td>\n",
       "      <td>0</td>\n",
       "      <td>1</td>\n",
       "      <td>0</td>\n",
       "      <td>0</td>\n",
       "      <td>0</td>\n",
       "      <td>0</td>\n",
       "      <td>0</td>\n",
       "      <td>0</td>\n",
       "      <td>0</td>\n",
       "      <td>0</td>\n",
       "      <td>0</td>\n",
       "      <td>1</td>\n",
       "    </tr>\n",
       "    <tr>\n",
       "      <th>6877</th>\n",
       "      <td>6877</td>\n",
       "      <td>leave  webapplicationexception  default  proce...</td>\n",
       "      <td>0</td>\n",
       "      <td>0</td>\n",
       "      <td>0</td>\n",
       "      <td>0</td>\n",
       "      <td>0</td>\n",
       "      <td>0</td>\n",
       "      <td>1</td>\n",
       "      <td>0</td>\n",
       "      <td>0</td>\n",
       "      <td>0</td>\n",
       "      <td>0</td>\n",
       "      <td>0</td>\n",
       "      <td>0</td>\n",
       "      <td>0</td>\n",
       "      <td>0</td>\n",
       "      <td>0</td>\n",
       "      <td>0</td>\n",
       "    </tr>\n",
       "    <tr>\n",
       "      <th>6878</th>\n",
       "      <td>6878</td>\n",
       "      <td>provide  realm  management  enduser  add  wick...</td>\n",
       "      <td>0</td>\n",
       "      <td>0</td>\n",
       "      <td>0</td>\n",
       "      <td>0</td>\n",
       "      <td>0</td>\n",
       "      <td>0</td>\n",
       "      <td>0</td>\n",
       "      <td>0</td>\n",
       "      <td>0</td>\n",
       "      <td>0</td>\n",
       "      <td>0</td>\n",
       "      <td>0</td>\n",
       "      <td>0</td>\n",
       "      <td>0</td>\n",
       "      <td>0</td>\n",
       "      <td>1</td>\n",
       "      <td>0</td>\n",
       "    </tr>\n",
       "    <tr>\n",
       "      <th>6879</th>\n",
       "      <td>6879</td>\n",
       "      <td>allow  scripted  customizations  core  customi...</td>\n",
       "      <td>1</td>\n",
       "      <td>0</td>\n",
       "      <td>1</td>\n",
       "      <td>0</td>\n",
       "      <td>1</td>\n",
       "      <td>0</td>\n",
       "      <td>0</td>\n",
       "      <td>1</td>\n",
       "      <td>0</td>\n",
       "      <td>0</td>\n",
       "      <td>0</td>\n",
       "      <td>0</td>\n",
       "      <td>0</td>\n",
       "      <td>0</td>\n",
       "      <td>0</td>\n",
       "      <td>1</td>\n",
       "      <td>1</td>\n",
       "    </tr>\n",
       "    <tr>\n",
       "      <th>6880</th>\n",
       "      <td>6880</td>\n",
       "      <td>method  check  token  expired  would  like  ch...</td>\n",
       "      <td>1</td>\n",
       "      <td>0</td>\n",
       "      <td>1</td>\n",
       "      <td>0</td>\n",
       "      <td>1</td>\n",
       "      <td>0</td>\n",
       "      <td>0</td>\n",
       "      <td>0</td>\n",
       "      <td>0</td>\n",
       "      <td>0</td>\n",
       "      <td>0</td>\n",
       "      <td>0</td>\n",
       "      <td>0</td>\n",
       "      <td>0</td>\n",
       "      <td>0</td>\n",
       "      <td>0</td>\n",
       "      <td>0</td>\n",
       "    </tr>\n",
       "  </tbody>\n",
       "</table>\n",
       "<p>6881 rows × 19 columns</p>\n",
       "</div>"
      ],
      "text/plain": [
       "      Unnamed: 0                                    FEATURE REQUEST  \\\n",
       "0              0  add  relmetadataprovider  parameter  standard ...   \n",
       "1              1  allowing  sqloperator  overridden  validation ...   \n",
       "2              2  add  support  translate  expession  fromstring...   \n",
       "3              3  extend  simplify  reducing  expression  would ...   \n",
       "4              4  add  support  timestampadd  timestampdiff  fun...   \n",
       "...          ...                                                ...   \n",
       "6876        6876  optionally  provide  schema  information  attr...   \n",
       "6877        6877  leave  webapplicationexception  default  proce...   \n",
       "6878        6878  provide  realm  management  enduser  add  wick...   \n",
       "6879        6879  allow  scripted  customizations  core  customi...   \n",
       "6880        6880  method  check  token  expired  would  like  ch...   \n",
       "\n",
       "      DuplicatedCode  LargeClass  LongMethod  ExtractInterface  ExtractMethod  \\\n",
       "0                  1           0           1                 0              1   \n",
       "1                  1           0           1                 0              1   \n",
       "2                  0           0           0                 0              0   \n",
       "3                  1           0           1                 0              1   \n",
       "4                  1           0           1                 0              1   \n",
       "...              ...         ...         ...               ...            ...   \n",
       "6876               0           0           0                 0              0   \n",
       "6877               0           0           0                 0              0   \n",
       "6878               0           0           0                 0              0   \n",
       "6879               1           0           1                 0              1   \n",
       "6880               1           0           1                 0              1   \n",
       "\n",
       "      ExtractSuperclass  InlineMethod  MoveAndRenameClass  MoveAttribute  \\\n",
       "0                     0             0                   0              0   \n",
       "1                     0             0                   0              0   \n",
       "2                     0             0                   0              1   \n",
       "3                     0             0                   0              0   \n",
       "4                     0             0                   0              0   \n",
       "...                 ...           ...                 ...            ...   \n",
       "6876                  0             1                   0              0   \n",
       "6877                  0             1                   0              0   \n",
       "6878                  0             0                   0              0   \n",
       "6879                  0             0                   1              0   \n",
       "6880                  0             0                   0              0   \n",
       "\n",
       "      MoveClass  MoveMethod  PullUpAttribute  PullUpMethod  PushDownAttribute  \\\n",
       "0             0           0                0             0                  0   \n",
       "1             0           0                0             0                  0   \n",
       "2             0           0                0             0                  0   \n",
       "3             0           0                0             0                  0   \n",
       "4             0           1                0             0                  1   \n",
       "...         ...         ...              ...           ...                ...   \n",
       "6876          0           0                0             0                  0   \n",
       "6877          0           0                0             0                  0   \n",
       "6878          0           0                0             0                  0   \n",
       "6879          0           0                0             0                  0   \n",
       "6880          0           0                0             0                  0   \n",
       "\n",
       "      PushDownMethod  RenameClass  RenameMethod  \n",
       "0                  0            0             0  \n",
       "1                  0            0             1  \n",
       "2                  0            0             0  \n",
       "3                  0            0             0  \n",
       "4                  0            0             1  \n",
       "...              ...          ...           ...  \n",
       "6876               0            0             1  \n",
       "6877               0            0             0  \n",
       "6878               0            1             0  \n",
       "6879               0            1             1  \n",
       "6880               0            0             0  \n",
       "\n",
       "[6881 rows x 19 columns]"
      ]
     },
     "execution_count": 10,
     "metadata": {},
     "output_type": "execute_result"
    }
   ],
   "source": [
    "tocsv = pd.read_csv(r'C:refPreprocessed.csv')\n",
    "tocsv"
   ]
  },
  {
   "cell_type": "markdown",
   "metadata": {},
   "source": [
    "# 8- Text Vectorization is the process of converting text (FEATURE REQUEST) into numerical representation"
   ]
  },
  {
   "cell_type": "code",
   "execution_count": 11,
   "metadata": {},
   "outputs": [],
   "source": [
    "v = TfidfVectorizer(max_features=1000)\n",
    "x = v.fit_transform(tocsv['FEATURE REQUEST'])"
   ]
  },
  {
   "cell_type": "markdown",
   "metadata": {},
   "source": [
    "# 9 - Concatenate dataframes (The binarization columns with FEATURE REQUEST column after the vectorization )"
   ]
  },
  {
   "cell_type": "code",
   "execution_count": 12,
   "metadata": {},
   "outputs": [
    {
     "name": "stdout",
     "output_type": "stream",
     "text": [
      "(6881, 1019)\n"
     ]
    }
   ],
   "source": [
    "tocsv = pd.concat([pd.DataFrame(x.toarray()), tocsv], axis = 1)\n",
    "print(tocsv.shape)"
   ]
  },
  {
   "cell_type": "markdown",
   "metadata": {},
   "source": [
    "# 10- Split The dataset 0.25 test 0.75 train"
   ]
  },
  {
   "cell_type": "code",
   "execution_count": 13,
   "metadata": {},
   "outputs": [],
   "source": [
    "columns = list(tocsv.columns)\n",
    "\n",
    "X_train,X_test, y_train , y_test  = train_test_split(tocsv[columns[:-14]],tocsv[columns[-14:]], test_size=0.25,random_state=42)\n",
    "\n",
    "\n",
    "X_train = X_train.drop(columns=['FEATURE REQUEST'])\n",
    "X_test = X_test.drop(columns=['FEATURE REQUEST'])"
   ]
  },
  {
   "cell_type": "markdown",
   "metadata": {},
   "source": [
    "# 11-  Make all labels as one group (categories)"
   ]
  },
  {
   "cell_type": "code",
   "execution_count": 14,
   "metadata": {},
   "outputs": [
    {
     "name": "stdout",
     "output_type": "stream",
     "text": [
      "['ExtractInterface', 'ExtractMethod', 'ExtractSuperclass', 'InlineMethod', 'MoveAndRenameClass', 'MoveAttribute', 'MoveClass', 'MoveMethod', 'PullUpAttribute', 'PullUpMethod', 'PushDownAttribute', 'PushDownMethod', 'RenameClass', 'RenameMethod']\n",
      "ExtractInterface       33\n",
      "ExtractMethod         998\n",
      "ExtractSuperclass      29\n",
      "InlineMethod          155\n",
      "MoveAndRenameClass     56\n",
      "MoveAttribute         217\n",
      "MoveClass             162\n",
      "MoveMethod            318\n",
      "PullUpAttribute        39\n",
      "PullUpMethod           54\n",
      "PushDownAttribute      29\n",
      "PushDownMethod         26\n",
      "RenameClass           169\n",
      "RenameMethod          615\n",
      "dtype: int64\n"
     ]
    }
   ],
   "source": [
    "categories = list(y_train.columns)\n",
    "print(categories)\n",
    "print(y_test.sum())"
   ]
  },
  {
   "cell_type": "markdown",
   "metadata": {},
   "source": [
    "# 12 -Bulid a tranning model using (OneVsRestClassifier) fot multilabel classification this strategy consists of fitting one classifier per class + calculating test accuracy for each class"
   ]
  },
  {
   "cell_type": "code",
   "execution_count": 73,
   "metadata": {
    "scrolled": false
   },
   "outputs": [
    {
     "name": "stdout",
     "output_type": "stream",
     "text": [
      "**Processing ExtractInterface comments...**\n",
      "Test accuracy is 0.981118373275236\n",
      "Test recall is 0.10344827586206896\n",
      "Test precision is 1.0\n",
      "Test f1_score is 0.1875\n",
      "\n",
      "\n",
      "**Processing ExtractMethod comments...**\n",
      "Test accuracy is 1.0\n",
      "Test recall is 1.0\n",
      "Test precision is 1.0\n",
      "Test f1_score is 1.0\n",
      "\n",
      "\n",
      "**Processing ExtractSuperclass comments...**\n",
      "Test accuracy is 0.9912854030501089\n",
      "Test recall is 0.45454545454545453\n",
      "Test precision is 1.0\n",
      "Test f1_score is 0.625\n",
      "\n",
      "\n",
      "**Processing InlineMethod comments...**\n",
      "Test accuracy is 0.9114015976761075\n",
      "Test recall is 0.01652892561983471\n",
      "Test precision is 0.4\n",
      "Test f1_score is 0.031746031746031744\n",
      "\n",
      "\n",
      "**Processing MoveAndRenameClass comments...**\n",
      "Test accuracy is 0.9702251270878722\n",
      "Test recall is 0.0\n",
      "Test precision is 0.0\n",
      "Test f1_score is 0.0\n",
      "\n",
      "\n",
      "**Processing MoveAttribute comments...**\n"
     ]
    },
    {
     "name": "stderr",
     "output_type": "stream",
     "text": [
      "C:\\Users\\GEM001\\anaconda3\\lib\\site-packages\\sklearn\\metrics\\_classification.py:1221: UndefinedMetricWarning: Precision is ill-defined and being set to 0.0 due to no predicted samples. Use `zero_division` parameter to control this behavior.\n",
      "  _warn_prf(average, modifier, msg_start, len(result))\n"
     ]
    },
    {
     "name": "stdout",
     "output_type": "stream",
     "text": [
      "Test accuracy is 0.8656499636891793\n",
      "Test recall is 0.0\n",
      "Test precision is 0.0\n",
      "Test f1_score is 0.0\n",
      "\n",
      "\n",
      "**Processing MoveClass comments...**\n",
      "Test accuracy is 0.9084967320261438\n",
      "Test recall is 0.09558823529411764\n",
      "Test precision is 0.8125\n",
      "Test f1_score is 0.17105263157894737\n",
      "\n",
      "\n",
      "**Processing MoveMethod comments...**\n",
      "Test accuracy is 0.8162672476397966\n",
      "Test recall is 0.008064516129032258\n",
      "Test precision is 0.2222222222222222\n",
      "Test f1_score is 0.01556420233463035\n",
      "\n",
      "\n",
      "**Processing PullUpAttribute comments...**\n",
      "Test accuracy is 0.9789397240377633\n",
      "Test recall is 0.0\n",
      "Test precision is 0.0\n",
      "Test f1_score is 0.0\n",
      "\n",
      "\n",
      "**Processing PullUpMethod comments...**\n"
     ]
    },
    {
     "name": "stderr",
     "output_type": "stream",
     "text": [
      "C:\\Users\\GEM001\\anaconda3\\lib\\site-packages\\sklearn\\metrics\\_classification.py:1221: UndefinedMetricWarning: Precision is ill-defined and being set to 0.0 due to no predicted samples. Use `zero_division` parameter to control this behavior.\n",
      "  _warn_prf(average, modifier, msg_start, len(result))\n"
     ]
    },
    {
     "name": "stdout",
     "output_type": "stream",
     "text": [
      "Test accuracy is 0.9709513435003632\n",
      "Test recall is 0.024390243902439025\n",
      "Test precision is 1.0\n",
      "Test f1_score is 0.047619047619047616\n",
      "\n",
      "\n",
      "**Processing PushDownAttribute comments...**\n",
      "Test accuracy is 0.9832970225127088\n",
      "Test recall is 0.0\n",
      "Test precision is 0.0\n",
      "Test f1_score is 0.0\n",
      "\n",
      "\n",
      "**Processing PushDownMethod comments...**\n"
     ]
    },
    {
     "name": "stderr",
     "output_type": "stream",
     "text": [
      "C:\\Users\\GEM001\\anaconda3\\lib\\site-packages\\sklearn\\metrics\\_classification.py:1221: UndefinedMetricWarning: Precision is ill-defined and being set to 0.0 due to no predicted samples. Use `zero_division` parameter to control this behavior.\n",
      "  _warn_prf(average, modifier, msg_start, len(result))\n"
     ]
    },
    {
     "name": "stdout",
     "output_type": "stream",
     "text": [
      "Test accuracy is 0.9847494553376906\n",
      "Test recall is 0.0\n",
      "Test precision is 0.0\n",
      "Test f1_score is 0.0\n",
      "\n",
      "\n",
      "**Processing RenameClass comments...**\n"
     ]
    },
    {
     "name": "stderr",
     "output_type": "stream",
     "text": [
      "C:\\Users\\GEM001\\anaconda3\\lib\\site-packages\\sklearn\\metrics\\_classification.py:1221: UndefinedMetricWarning: Precision is ill-defined and being set to 0.0 due to no predicted samples. Use `zero_division` parameter to control this behavior.\n",
      "  _warn_prf(average, modifier, msg_start, len(result))\n"
     ]
    },
    {
     "name": "stdout",
     "output_type": "stream",
     "text": [
      "Test accuracy is 0.9012345679012346\n",
      "Test recall is 0.014598540145985401\n",
      "Test precision is 0.6666666666666666\n",
      "Test f1_score is 0.02857142857142857\n",
      "\n",
      "\n",
      "**Processing RenameMethod comments...**\n",
      "Test accuracy is 0.6753812636165577\n",
      "Test recall is 0.3181818181818182\n",
      "Test precision is 0.5682656826568265\n",
      "Test f1_score is 0.40794701986754967\n",
      "\n",
      "\n",
      "avgAccuracy0.924214130096483\n",
      "avgRecall0.14538185783433935\n",
      "avgPercision0.47640389796755117\n",
      "avgF1-score0.17964288297983108\n"
     ]
    }
   ],
   "source": [
    "clf = Pipeline([('clf', OneVsRestClassifier(RandomForestClassifier(), n_jobs=-1))])\n",
    "avgAccuracy = 0\n",
    "avgRecall = 0\n",
    "avgPercision = 0\n",
    "avgf1_score = 0\n",
    "\n",
    "for category in categories:\n",
    "    print('**Processing {} comments...**'.format(category))\n",
    "    \n",
    "    # Training RandomForestClassifiern model on train data\n",
    "    clf.fit(X_train, y_train[category])\n",
    "    \n",
    "    # calculating test accuracy\n",
    "    prediction = clf.predict(X_test)\n",
    "    print('Test accuracy is {}'.format(accuracy_score(y_test[category], prediction)))\n",
    "    avgAccuracy+=accuracy_score(y_test[category], prediction)\n",
    "    print('Test recall is {}'.format(recall_score(y_test[category], prediction)))\n",
    "    avgRecall += recall_score(y_test[category], prediction)\n",
    "    print('Test precision is {}'.format(precision_score(y_test[category], prediction)))\n",
    "    avgPercision += precision_score(y_test[category], prediction)\n",
    "    print('Test f1_score is {}'.format(f1_score(y_test[category], prediction)))\n",
    "    avgf1_score += f1_score(y_test[category], prediction)\n",
    "    print(\"\\n\")\n",
    "    \n",
    "    \n",
    "print(f'avgAccuracy{avgAccuracy/len(categories)}\\navgRecall{avgRecall/len(categories)}\\navgPercision{avgPercision/len(categories)}\\navgF1-score{avgf1_score/len(categories)}')"
   ]
  },
  {
   "cell_type": "markdown",
   "metadata": {},
   "source": [
    "# 13 - Bulid Hyperparmeter method to find the best parameters for the SVM model"
   ]
  },
  {
   "cell_type": "code",
   "execution_count": 23,
   "metadata": {},
   "outputs": [
    {
     "name": "stdout",
     "output_type": "stream",
     "text": [
      "400\n",
      "the parameter of best model is kernel = rbf gamma = 0.01 const = 0.01 the f1_score is 0.43504795117698336\n",
      "the parameter of best model is kernel = rbf gamma = 0.01 const = 0.06 the f1_score is 0.5164294954721863\n",
      "the parameter of best model is kernel = rbf gamma = 0.01 const = 0.11 the f1_score is 0.5164294954721863\n",
      "the parameter of best model is kernel = rbf gamma = 0.01 const = 0.16 the f1_score is 0.5164294954721863\n",
      "the parameter of best model is kernel = rbf gamma = 0.01 const = 0.21 the f1_score is 0.5164294954721863\n",
      "the parameter of best model is kernel = rbf gamma = 0.01 const = 0.26 the f1_score is 0.5164294954721863\n",
      "the parameter of best model is kernel = rbf gamma = 0.01 const = 0.31 the f1_score is 0.5946660789067666\n",
      "the parameter of best model is kernel = rbf gamma = 0.01 const = 0.96 the f1_score is 0.5966681280140289\n",
      "the parameter of best model is kernel = rbf gamma = 0.06 const = 0.21 the f1_score is 0.6021834061135372\n",
      "the parameter of best model is kernel = rbf gamma = 0.06 const = 0.26 the f1_score is 0.6021834061135372\n",
      "the parameter of best model is kernel = rbf gamma = 0.06 const = 0.31 the f1_score is 0.607600434310532\n",
      "the parameter of best model is kernel = rbf gamma = 0.06 const = 0.36 the f1_score is 0.6084114186097189\n",
      "the parameter of best model is kernel = rbf gamma = 0.06 const = 0.41000000000000003 the f1_score is 0.6084114186097189\n",
      "the parameter of best model is kernel = rbf gamma = 0.06 const = 0.46 the f1_score is 0.6084114186097189\n",
      "the parameter of best model is kernel = rbf gamma = 0.06 const = 0.51 the f1_score is 0.6084114186097189\n",
      "the parameter of best model is kernel = rbf gamma = 0.06 const = 0.56 the f1_score is 0.6084114186097189\n",
      "the parameter of best model is kernel = rbf gamma = 0.06 const = 0.61 the f1_score is 0.6084114186097189\n",
      "the parameter of best model is kernel = rbf gamma = 0.06 const = 0.66 the f1_score is 0.6084114186097189\n",
      "the parameter of best model is kernel = rbf gamma = 0.06 const = 0.71 the f1_score is 0.6084114186097189\n",
      "the parameter of best model is kernel = rbf gamma = 0.06 const = 0.76 the f1_score is 0.6084114186097189\n",
      "the parameter of best model is kernel = rbf gamma = 0.06 const = 0.81 the f1_score is 0.6084114186097189\n",
      "the parameter of best model is kernel = rbf gamma = 0.06 const = 0.86 the f1_score is 0.6084114186097189\n",
      "the parameter of best model is kernel = rbf gamma = 0.06 const = 0.91 the f1_score is 0.6084114186097189\n",
      "the parameter of best model is kernel = rbf gamma = 0.06 const = 0.96 the f1_score is 0.6084114186097189\n",
      "the parameter of best model is kernel = rbf gamma = 0.11 const = 0.16 the f1_score is 0.6084114186097189\n",
      "the parameter of best model is kernel = rbf gamma = 0.11 const = 0.21 the f1_score is 0.6084114186097189\n",
      "the parameter of best model is kernel = rbf gamma = 0.11 const = 0.26 the f1_score is 0.6084114186097189\n",
      "the parameter of best model is kernel = rbf gamma = 0.11 const = 0.31 the f1_score is 0.6084114186097189\n",
      "the parameter of best model is kernel = rbf gamma = 0.11 const = 0.36 the f1_score is 0.6084114186097189\n",
      "the parameter of best model is kernel = rbf gamma = 0.11 const = 0.41000000000000003 the f1_score is 0.6084114186097189\n",
      "the parameter of best model is kernel = rbf gamma = 0.11 const = 0.46 the f1_score is 0.6084114186097189\n",
      "the parameter of best model is kernel = rbf gamma = 0.11 const = 0.51 the f1_score is 0.6084114186097189\n",
      "the parameter of best model is kernel = rbf gamma = 0.11 const = 0.56 the f1_score is 0.6084114186097189\n",
      "the parameter of best model is kernel = rbf gamma = 0.11 const = 0.61 the f1_score is 0.6084114186097189\n",
      "the parameter of best model is kernel = rbf gamma = 0.11 const = 0.66 the f1_score is 0.6084114186097189\n",
      "the parameter of best model is kernel = rbf gamma = 0.11 const = 0.71 the f1_score is 0.6084114186097189\n",
      "the parameter of best model is kernel = rbf gamma = 0.11 const = 0.76 the f1_score is 0.6084114186097189\n",
      "the parameter of best model is kernel = rbf gamma = 0.11 const = 0.81 the f1_score is 0.6084114186097189\n",
      "the parameter of best model is kernel = rbf gamma = 0.11 const = 0.86 the f1_score is 0.6084114186097189\n",
      "the parameter of best model is kernel = rbf gamma = 0.11 const = 0.91 the f1_score is 0.6084114186097189\n",
      "the parameter of best model is kernel = rbf gamma = 0.11 const = 0.96 the f1_score is 0.6084114186097189\n",
      "the parameter of best model is kernel = rbf gamma = 0.16 const = 0.11 the f1_score is 0.6084114186097189\n",
      "the parameter of best model is kernel = rbf gamma = 0.16 const = 0.16 the f1_score is 0.6084114186097189\n",
      "the parameter of best model is kernel = rbf gamma = 0.16 const = 0.21 the f1_score is 0.6084114186097189\n",
      "the parameter of best model is kernel = rbf gamma = 0.16 const = 0.26 the f1_score is 0.6084114186097189\n",
      "the parameter of best model is kernel = rbf gamma = 0.16 const = 0.31 the f1_score is 0.6084114186097189\n",
      "the parameter of best model is kernel = rbf gamma = 0.16 const = 0.36 the f1_score is 0.6084114186097189\n",
      "the parameter of best model is kernel = rbf gamma = 0.16 const = 0.41000000000000003 the f1_score is 0.6084114186097189\n",
      "the parameter of best model is kernel = rbf gamma = 0.16 const = 0.46 the f1_score is 0.6084114186097189\n",
      "the parameter of best model is kernel = rbf gamma = 0.16 const = 0.51 the f1_score is 0.6084114186097189\n",
      "the parameter of best model is kernel = rbf gamma = 0.16 const = 0.56 the f1_score is 0.6084114186097189\n",
      "the parameter of best model is kernel = rbf gamma = 0.16 const = 0.61 the f1_score is 0.6084114186097189\n",
      "the parameter of best model is kernel = rbf gamma = 0.16 const = 0.66 the f1_score is 0.6084114186097189\n",
      "the parameter of best model is kernel = rbf gamma = 0.16 const = 0.71 the f1_score is 0.612050281751192\n",
      "the parameter of best model is kernel = rbf gamma = 0.16 const = 0.76 the f1_score is 0.612050281751192\n",
      "the parameter of best model is kernel = rbf gamma = 0.16 const = 0.81 the f1_score is 0.612050281751192\n",
      "the parameter of best model is kernel = rbf gamma = 0.16 const = 0.86 the f1_score is 0.612050281751192\n",
      "the parameter of best model is kernel = rbf gamma = 0.16 const = 0.91 the f1_score is 0.612050281751192\n",
      "the parameter of best model is kernel = rbf gamma = 0.16 const = 0.96 the f1_score is 0.612050281751192\n",
      "the parameter of best model is kernel = rbf gamma = 0.21 const = 0.51 the f1_score is 0.612050281751192\n",
      "the parameter of best model is kernel = rbf gamma = 0.21 const = 0.56 the f1_score is 0.612050281751192\n",
      "the parameter of best model is kernel = rbf gamma = 0.21 const = 0.61 the f1_score is 0.612050281751192\n",
      "the parameter of best model is kernel = rbf gamma = 0.21 const = 0.66 the f1_score is 0.612050281751192\n",
      "the parameter of best model is kernel = rbf gamma = 0.21 const = 0.71 the f1_score is 0.612050281751192\n",
      "the parameter of best model is kernel = rbf gamma = 0.21 const = 0.76 the f1_score is 0.612050281751192\n",
      "the parameter of best model is kernel = rbf gamma = 0.21 const = 0.81 the f1_score is 0.612050281751192\n",
      "the parameter of best model is kernel = rbf gamma = 0.21 const = 0.86 the f1_score is 0.612050281751192\n",
      "the parameter of best model is kernel = rbf gamma = 0.21 const = 0.91 the f1_score is 0.612050281751192\n",
      "the parameter of best model is kernel = rbf gamma = 0.21 const = 0.96 the f1_score is 0.612050281751192\n",
      "the parameter of best model is kernel = rbf gamma = 0.26 const = 0.41000000000000003 the f1_score is 0.612050281751192\n",
      "the parameter of best model is kernel = rbf gamma = 0.26 const = 0.46 the f1_score is 0.612050281751192\n",
      "the parameter of best model is kernel = rbf gamma = 0.26 const = 0.51 the f1_score is 0.612050281751192\n",
      "the parameter of best model is kernel = rbf gamma = 0.26 const = 0.56 the f1_score is 0.612050281751192\n",
      "the parameter of best model is kernel = rbf gamma = 0.26 const = 0.61 the f1_score is 0.612050281751192\n",
      "the parameter of best model is kernel = rbf gamma = 0.26 const = 0.66 the f1_score is 0.612050281751192\n",
      "the parameter of best model is kernel = rbf gamma = 0.26 const = 0.71 the f1_score is 0.612050281751192\n",
      "the parameter of best model is kernel = rbf gamma = 0.26 const = 0.76 the f1_score is 0.612050281751192\n",
      "the parameter of best model is kernel = rbf gamma = 0.26 const = 0.81 the f1_score is 0.612050281751192\n"
     ]
    },
    {
     "name": "stdout",
     "output_type": "stream",
     "text": [
      "the parameter of best model is kernel = rbf gamma = 0.26 const = 0.86 the f1_score is 0.612050281751192\n",
      "the parameter of best model is kernel = rbf gamma = 0.26 const = 0.91 the f1_score is 0.612050281751192\n",
      "the parameter of best model is kernel = rbf gamma = 0.26 const = 0.96 the f1_score is 0.612050281751192\n",
      "the parameter of best model is kernel = rbf gamma = 0.31 const = 0.36 the f1_score is 0.612050281751192\n",
      "the parameter of best model is kernel = rbf gamma = 0.31 const = 0.41000000000000003 the f1_score is 0.612050281751192\n",
      "the parameter of best model is kernel = rbf gamma = 0.31 const = 0.46 the f1_score is 0.612050281751192\n",
      "the parameter of best model is kernel = rbf gamma = 0.31 const = 0.51 the f1_score is 0.612050281751192\n",
      "the parameter of best model is kernel = rbf gamma = 0.31 const = 0.56 the f1_score is 0.612050281751192\n",
      "the parameter of best model is kernel = rbf gamma = 0.31 const = 0.61 the f1_score is 0.612050281751192\n",
      "the parameter of best model is kernel = rbf gamma = 0.31 const = 0.66 the f1_score is 0.612050281751192\n",
      "the parameter of best model is kernel = rbf gamma = 0.31 const = 0.71 the f1_score is 0.612050281751192\n",
      "the parameter of best model is kernel = rbf gamma = 0.31 const = 0.76 the f1_score is 0.612050281751192\n",
      "the parameter of best model is kernel = rbf gamma = 0.31 const = 0.81 the f1_score is 0.612050281751192\n",
      "the parameter of best model is kernel = rbf gamma = 0.31 const = 0.86 the f1_score is 0.612050281751192\n",
      "the parameter of best model is kernel = rbf gamma = 0.31 const = 0.91 the f1_score is 0.612050281751192\n",
      "the parameter of best model is kernel = rbf gamma = 0.31 const = 0.96 the f1_score is 0.612050281751192\n",
      "the parameter of best model is kernel = rbf gamma = 0.36 const = 0.31 the f1_score is 0.612050281751192\n",
      "the parameter of best model is kernel = rbf gamma = 0.36 const = 0.36 the f1_score is 0.612050281751192\n",
      "the parameter of best model is kernel = rbf gamma = 0.36 const = 0.41000000000000003 the f1_score is 0.612050281751192\n",
      "the parameter of best model is kernel = rbf gamma = 0.36 const = 0.46 the f1_score is 0.612050281751192\n",
      "the parameter of best model is kernel = rbf gamma = 0.36 const = 0.51 the f1_score is 0.612050281751192\n",
      "the parameter of best model is kernel = rbf gamma = 0.36 const = 0.56 the f1_score is 0.612050281751192\n",
      "the parameter of best model is kernel = rbf gamma = 0.36 const = 0.61 the f1_score is 0.612050281751192\n",
      "the parameter of best model is kernel = rbf gamma = 0.36 const = 0.66 the f1_score is 0.612050281751192\n",
      "the parameter of best model is kernel = rbf gamma = 0.36 const = 0.71 the f1_score is 0.612050281751192\n",
      "the parameter of best model is kernel = rbf gamma = 0.36 const = 0.76 the f1_score is 0.612050281751192\n",
      "the parameter of best model is kernel = rbf gamma = 0.36 const = 0.81 the f1_score is 0.612050281751192\n",
      "the parameter of best model is kernel = rbf gamma = 0.41000000000000003 const = 0.26 the f1_score is 0.612050281751192\n",
      "the parameter of best model is kernel = rbf gamma = 0.41000000000000003 const = 0.31 the f1_score is 0.612050281751192\n",
      "the parameter of best model is kernel = rbf gamma = 0.41000000000000003 const = 0.36 the f1_score is 0.612050281751192\n",
      "the parameter of best model is kernel = rbf gamma = 0.41000000000000003 const = 0.41000000000000003 the f1_score is 0.612050281751192\n",
      "the parameter of best model is kernel = rbf gamma = 0.41000000000000003 const = 0.46 the f1_score is 0.612050281751192\n",
      "the parameter of best model is kernel = rbf gamma = 0.41000000000000003 const = 0.51 the f1_score is 0.612050281751192\n",
      "the parameter of best model is kernel = rbf gamma = 0.41000000000000003 const = 0.56 the f1_score is 0.612050281751192\n",
      "the parameter of best model is kernel = rbf gamma = 0.41000000000000003 const = 0.61 the f1_score is 0.612050281751192\n",
      "the parameter of best model is kernel = rbf gamma = 0.41000000000000003 const = 0.66 the f1_score is 0.612050281751192\n",
      "the parameter of best model is kernel = rbf gamma = 0.46 const = 0.26 the f1_score is 0.612050281751192\n",
      "the parameter of best model is kernel = rbf gamma = 0.46 const = 0.31 the f1_score is 0.612050281751192\n",
      "the parameter of best model is kernel = rbf gamma = 0.46 const = 0.36 the f1_score is 0.612050281751192\n",
      "the parameter of best model is kernel = rbf gamma = 0.46 const = 0.41000000000000003 the f1_score is 0.612050281751192\n",
      "the parameter of best model is kernel = rbf gamma = 0.46 const = 0.46 the f1_score is 0.612050281751192\n",
      "the parameter of best model is kernel = rbf gamma = 0.46 const = 0.51 the f1_score is 0.612050281751192\n",
      "the parameter of best model is kernel = rbf gamma = 0.46 const = 0.56 the f1_score is 0.612050281751192\n",
      "the parameter of best model is kernel = rbf gamma = 0.51 const = 0.21 the f1_score is 0.612050281751192\n",
      "the parameter of best model is kernel = rbf gamma = 0.51 const = 0.26 the f1_score is 0.612050281751192\n",
      "the parameter of best model is kernel = rbf gamma = 0.51 const = 0.31 the f1_score is 0.612050281751192\n",
      "the parameter of best model is kernel = rbf gamma = 0.51 const = 0.36 the f1_score is 0.612050281751192\n",
      "the parameter of best model is kernel = rbf gamma = 0.51 const = 0.41000000000000003 the f1_score is 0.612050281751192\n",
      "the parameter of best model is kernel = rbf gamma = 0.51 const = 0.46 the f1_score is 0.612050281751192\n",
      "the parameter of best model is kernel = rbf gamma = 0.56 const = 0.21 the f1_score is 0.612050281751192\n",
      "the parameter of best model is kernel = rbf gamma = 0.56 const = 0.26 the f1_score is 0.612050281751192\n",
      "the parameter of best model is kernel = rbf gamma = 0.56 const = 0.31 the f1_score is 0.612050281751192\n",
      "the parameter of best model is kernel = rbf gamma = 0.56 const = 0.36 the f1_score is 0.612050281751192\n",
      "the parameter of best model is kernel = rbf gamma = 0.56 const = 0.41000000000000003 the f1_score is 0.612050281751192\n",
      "the parameter of best model is kernel = rbf gamma = 0.61 const = 0.21 the f1_score is 0.612050281751192\n",
      "the parameter of best model is kernel = rbf gamma = 0.61 const = 0.26 the f1_score is 0.612050281751192\n",
      "the parameter of best model is kernel = rbf gamma = 0.61 const = 0.31 the f1_score is 0.612050281751192\n",
      "the parameter of best model is kernel = rbf gamma = 0.61 const = 0.36 the f1_score is 0.612050281751192\n",
      "the parameter of best model is kernel = rbf gamma = 0.66 const = 0.21 the f1_score is 0.612050281751192\n",
      "the parameter of best model is kernel = rbf gamma = 0.66 const = 0.26 the f1_score is 0.612050281751192\n",
      "the parameter of best model is kernel = rbf gamma = 0.66 const = 0.31 the f1_score is 0.612050281751192\n",
      "the parameter of best model is kernel = rbf gamma = 0.71 const = 0.16 the f1_score is 0.612050281751192\n",
      "the parameter of best model is kernel = rbf gamma = 0.71 const = 0.21 the f1_score is 0.612050281751192\n",
      "the parameter of best model is kernel = rbf gamma = 0.71 const = 0.26 the f1_score is 0.612050281751192\n",
      "the parameter of best model is kernel = rbf gamma = 0.76 const = 0.16 the f1_score is 0.612050281751192\n",
      "the parameter of best model is kernel = rbf gamma = 0.76 const = 0.21 the f1_score is 0.612050281751192\n",
      "the parameter of best model is kernel = rbf gamma = 0.76 const = 0.26 the f1_score is 0.612050281751192\n",
      "the parameter of best model is kernel = rbf gamma = 0.81 const = 0.16 the f1_score is 0.612050281751192\n",
      "the parameter of best model is kernel = rbf gamma = 0.81 const = 0.21 the f1_score is 0.612050281751192\n",
      "the parameter of best model is kernel = rbf gamma = 0.86 const = 0.16 the f1_score is 0.612050281751192\n",
      "the parameter of best model is kernel = rbf gamma = 0.86 const = 0.21 the f1_score is 0.612050281751192\n",
      "the parameter of best model is kernel = rbf gamma = 0.91 const = 0.16 the f1_score is 0.612050281751192\n",
      "the parameter of best model is kernel = rbf gamma = 0.91 const = 0.21 the f1_score is 0.612050281751192\n",
      "the parameter of best model is kernel = rbf gamma = 0.96 const = 0.16 the f1_score is 0.612050281751192\n",
      "the parameter of best model is kernel = poly gamma = 0.16 const = 0.71 the f1_score is 0.6123510292524378\n",
      "the parameter of best model is kernel = poly gamma = 0.16 const = 0.76 the f1_score is 0.6123510292524378\n",
      "the parameter of best model is kernel = poly gamma = 0.16 const = 0.81 the f1_score is 0.6123510292524378\n"
     ]
    },
    {
     "name": "stdout",
     "output_type": "stream",
     "text": [
      "the parameter of best model is kernel = poly gamma = 0.16 const = 0.86 the f1_score is 0.6123510292524378\n",
      "the parameter of best model is kernel = poly gamma = 0.21 const = 0.31 the f1_score is 0.6123510292524378\n",
      "the parameter of best model is kernel = poly gamma = 0.21 const = 0.36 the f1_score is 0.6123510292524378\n",
      "the parameter of best model is kernel = poly gamma = 0.26 const = 0.16 the f1_score is 0.6123510292524378\n",
      "the parameter of best model is kernel = poly gamma = 0.26 const = 0.21 the f1_score is 0.6123510292524378\n",
      "the parameter of best model is kernel = poly gamma = 0.31 const = 0.11 the f1_score is 0.6123510292524378\n",
      "the parameter of best model is kernel = poly gamma = 0.36 const = 0.06 the f1_score is 0.6123510292524378\n",
      "the parameter of best model is kernel = poly gamma = 0.66 const = 0.01 the f1_score is 0.6123510292524378\n",
      "the parameter of best model is kernel = poly gamma = 0.71 const = 0.01 the f1_score is 0.6123510292524378\n"
     ]
    }
   ],
   "source": [
    "kernel= ['rbf','poly']\n",
    "gamma = [x*0.01 for x in range(1,100,5)]\n",
    "c = [x*0.01 for x in range(1,100,5)]\n",
    "print(len(c)*len(gamma))\n",
    "best_f1 = 0\n",
    "best_model = None\n",
    "for k in kernel:\n",
    "    for g in gamma:\n",
    "        for cons in c:\n",
    "            classifier = ClassifierChain(svm.SVC(kernel=k, random_state=1, gamma=g, C=cons))\n",
    "            classifier.fit(X_train, y_train)\n",
    "            predictions = classifier.predict(X_test)\n",
    "            if f1_score(y_test,predictions,average='micro') >= best_f1:\n",
    "                best_f1 = f1_score(y_test,predictions,average='micro')\n",
    "                print(f'the parameter of best model is kernel = {k} gamma = {g} const = {cons} the f1_score is {best_f1}')\n",
    "                best_model = classifier"
   ]
  },
  {
   "cell_type": "markdown",
   "metadata": {},
   "source": [
    "# 14 - The tranning model with support vector machine "
   ]
  },
  {
   "cell_type": "code",
   "execution_count": 51,
   "metadata": {},
   "outputs": [
    {
     "name": "stdout",
     "output_type": "stream",
     "text": [
      "Accuracy =  0.34043583535108957\n"
     ]
    }
   ],
   "source": [
    "classifier = ClassifierChain(svm.SVC(kernel='rbf', gamma=0.06, C=0.21))\n",
    "classifier.fit(X_train, y_train)\n",
    "predictions = classifier.predict(X_test)\n",
    "print(\"Accuracy = \",accuracy_score(y_test,predictions))\n",
    "print(classification_report(y_test,predictions))"
   ]
  },
  {
   "cell_type": "markdown",
   "metadata": {},
   "source": [
    "# 15 - The tranning model with multinomial naive bayes "
   ]
  },
  {
   "cell_type": "code",
   "execution_count": null,
   "metadata": {},
   "outputs": [],
   "source": [
    "classifier = ClassifierChain(MultinomialNB())\n",
    "classifier.fit(X_train, y_train)\n",
    "\n",
    "predictions = classifier.predict(X_test)\n",
    "print(classification_report(y_test,predictions))\n"
   ]
  },
  {
   "cell_type": "markdown",
   "metadata": {},
   "source": [
    "# 16 - The tranning model with RandomForestClassifier gave the best result"
   ]
  },
  {
   "cell_type": "code",
   "execution_count": 115,
   "metadata": {},
   "outputs": [
    {
     "name": "stdout",
     "output_type": "stream",
     "text": [
      "(1721, 1004)\n",
      "Accuracy =  0.4927367809413132\n",
      "              precision    recall  f1-score   support\n",
      "\n",
      "           0       1.00      0.03      0.06        33\n",
      "           1       1.00      1.00      1.00       998\n",
      "           2       1.00      0.17      0.29        29\n",
      "           3       0.44      0.03      0.05       155\n",
      "           4       0.00      0.00      0.00        56\n",
      "           5       0.50      0.00      0.01       217\n",
      "           6       0.79      0.14      0.24       162\n",
      "           7       0.50      0.00      0.01       318\n",
      "           8       0.00      0.00      0.00        39\n",
      "           9       0.67      0.07      0.13        54\n",
      "          10       0.00      0.00      0.00        29\n",
      "          11       0.00      0.00      0.00        26\n",
      "          12       0.26      0.03      0.05       169\n",
      "          13       0.55      0.55      0.55       615\n",
      "\n",
      "   micro avg       0.82      0.48      0.60      2900\n",
      "   macro avg       0.48      0.15      0.17      2900\n",
      "weighted avg       0.67      0.48      0.49      2900\n",
      " samples avg       0.79      0.62      0.66      2900\n",
      "\n"
     ]
    },
    {
     "name": "stderr",
     "output_type": "stream",
     "text": [
      "C:\\Users\\GEM001\\anaconda3\\lib\\site-packages\\sklearn\\metrics\\_classification.py:1221: UndefinedMetricWarning: Precision and F-score are ill-defined and being set to 0.0 in labels with no predicted samples. Use `zero_division` parameter to control this behavior.\n",
      "  _warn_prf(average, modifier, msg_start, len(result))\n",
      "C:\\Users\\GEM001\\anaconda3\\lib\\site-packages\\sklearn\\metrics\\_classification.py:1221: UndefinedMetricWarning: Precision and F-score are ill-defined and being set to 0.0 in samples with no predicted labels. Use `zero_division` parameter to control this behavior.\n",
      "  _warn_prf(average, modifier, msg_start, len(result))\n"
     ]
    }
   ],
   "source": [
    "classifier = ClassifierChain(RandomForestClassifier(class_weight='balanced'))\n",
    "classifier.fit(X_train, y_train)\n",
    "print(X_test.shape)\n",
    "predictions = classifier.predict(X_test)\n",
    "print(\"Accuracy = \",accuracy_score(y_test,predictions))\n",
    "print(classification_report(y_test,predictions))\n"
   ]
  },
  {
   "cell_type": "markdown",
   "metadata": {},
   "source": [
    "# 17 - Generic method to Build the confusion_matrix with the Heatmap  "
   ]
  },
  {
   "cell_type": "code",
   "execution_count": 120,
   "metadata": {
    "scrolled": false
   },
   "outputs": [
    {
     "name": "stdout",
     "output_type": "stream",
     "text": [
      "[[   1    0]\n",
      " [  32 1688]]\n"
     ]
    },
    {
     "data": {
      "image/png": "[encoded data removed]",
      "text/plain": [
       "<Figure size 432x288 with 2 Axes>"
      ]
     },
     "metadata": {
      "needs_background": "light"
     },
     "output_type": "display_data"
    },
    {
     "name": "stdout",
     "output_type": "stream",
     "text": [
      "[[998   0]\n",
      " [  0 723]]\n"
     ]
    },
    {
     "data": {
      "image/png": "[encoded data removed]",
      "text/plain": [
       "<Figure size 432x288 with 2 Axes>"
      ]
     },
     "metadata": {
      "needs_background": "light"
     },
     "output_type": "display_data"
    },
    {
     "name": "stdout",
     "output_type": "stream",
     "text": [
      "[[   5    0]\n",
      " [  24 1692]]\n"
     ]
    },
    {
     "data": {
      "image/png": "[encoded data removed]",
      "text/plain": [
       "<Figure size 432x288 with 2 Axes>"
      ]
     },
     "metadata": {
      "needs_background": "light"
     },
     "output_type": "display_data"
    },
    {
     "name": "stdout",
     "output_type": "stream",
     "text": [
      "[[   4    5]\n",
      " [ 151 1561]]\n"
     ]
    },
    {
     "data": {
      "image/png": "[encoded data removed]",
      "text/plain": [
       "<Figure size 432x288 with 2 Axes>"
      ]
     },
     "metadata": {
      "needs_background": "light"
     },
     "output_type": "display_data"
    },
    {
     "name": "stdout",
     "output_type": "stream",
     "text": [
      "[[   0    0]\n",
      " [  56 1665]]\n"
     ]
    },
    {
     "data": {
      "image/png": "[encoded data removed]",
      "text/plain": [
       "<Figure size 432x288 with 2 Axes>"
      ]
     },
     "metadata": {
      "needs_background": "light"
     },
     "output_type": "display_data"
    },
    {
     "name": "stdout",
     "output_type": "stream",
     "text": [
      "[[   1    1]\n",
      " [ 216 1503]]\n"
     ]
    },
    {
     "data": {
      "image/png": "[encoded data removed]",
      "text/plain": [
       "<Figure size 432x288 with 2 Axes>"
      ]
     },
     "metadata": {
      "needs_background": "light"
     },
     "output_type": "display_data"
    },
    {
     "name": "stdout",
     "output_type": "stream",
     "text": [
      "[[  23    6]\n",
      " [ 139 1553]]\n"
     ]
    },
    {
     "data": {
      "image/png": "[encoded data removed]",
      "text/plain": [
       "<Figure size 432x288 with 2 Axes>"
      ]
     },
     "metadata": {
      "needs_background": "light"
     },
     "output_type": "display_data"
    },
    {
     "name": "stdout",
     "output_type": "stream",
     "text": [
      "[[   1    1]\n",
      " [ 317 1402]]\n"
     ]
    },
    {
     "data": {
      "image/png": "[encoded data removed]",
      "text/plain": [
       "<Figure size 432x288 with 2 Axes>"
      ]
     },
     "metadata": {
      "needs_background": "light"
     },
     "output_type": "display_data"
    },
    {
     "name": "stdout",
     "output_type": "stream",
     "text": [
      "[[   0    0]\n",
      " [  39 1682]]\n"
     ]
    },
    {
     "data": {
      "image/png": "[encoded data removed]",
      "text/plain": [
       "<Figure size 432x288 with 2 Axes>"
      ]
     },
     "metadata": {
      "needs_background": "light"
     },
     "output_type": "display_data"
    },
    {
     "name": "stdout",
     "output_type": "stream",
     "text": [
      "[[   4    2]\n",
      " [  50 1665]]\n"
     ]
    },
    {
     "data": {
      "image/png": "[encoded data removed]",
      "text/plain": [
       "<Figure size 432x288 with 2 Axes>"
      ]
     },
     "metadata": {
      "needs_background": "light"
     },
     "output_type": "display_data"
    },
    {
     "name": "stdout",
     "output_type": "stream",
     "text": [
      "[[   0    0]\n",
      " [  29 1692]]\n"
     ]
    },
    {
     "data": {
      "image/png": "[encoded data removed]",
      "text/plain": [
       "<Figure size 432x288 with 2 Axes>"
      ]
     },
     "metadata": {
      "needs_background": "light"
     },
     "output_type": "display_data"
    },
    {
     "name": "stdout",
     "output_type": "stream",
     "text": [
      "[[   0    0]\n",
      " [  26 1695]]\n"
     ]
    },
    {
     "data": {
      "image/png": "[encoded data removed]",
      "text/plain": [
       "<Figure size 432x288 with 2 Axes>"
      ]
     },
     "metadata": {
      "needs_background": "light"
     },
     "output_type": "display_data"
    },
    {
     "name": "stdout",
     "output_type": "stream",
     "text": [
      "[[   5   14]\n",
      " [ 164 1538]]\n"
     ]
    },
    {
     "data": {
      "image/png": "[encoded data removed]",
      "text/plain": [
       "<Figure size 432x288 with 2 Axes>"
      ]
     },
     "metadata": {
      "needs_background": "light"
     },
     "output_type": "display_data"
    },
    {
     "name": "stdout",
     "output_type": "stream",
     "text": [
      "[[340 274]\n",
      " [275 832]]\n"
     ]
    },
    {
     "data": {
      "image/png": "[encoded data removed]",
      "text/plain": [
       "<Figure size 432x288 with 2 Axes>"
      ]
     },
     "metadata": {
      "needs_background": "light"
     },
     "output_type": "display_data"
    }
   ],
   "source": [
    "y_test.sum(axis = 1).sum()\n",
    "from sklearn.metrics import confusion_matrix\n",
    "\n",
    "pred  = np.array(predictions.toarray())\n",
    "\n",
    "\n",
    "dfpred = pd.DataFrame(pred, columns = categories)\n",
    "\n",
    "import seaborn as sns\n",
    "\n",
    "for x in categories:\n",
    "    print(confusion_matrix( dfpred[x],y_test[x],labels = [1,0]))\n",
    "    sns.heatmap(confusion_matrix(dfpred[x],y_test[x] ,labels = [1,0]), annot=True, fmt='g')\n",
    "    plt.show()\n"
   ]
  },
  {
   "cell_type": "markdown",
   "metadata": {},
   "source": [
    "# 18- This method for oversampling technique  (Multilabel Synthetic Minority Over-sampling)"
   ]
  },
  {
   "cell_type": "code",
   "execution_count": 15,
   "metadata": {},
   "outputs": [],
   "source": [
    "import numpy as np\n",
    "import pandas as pd\n",
    "import random\n",
    "from sklearn.datasets import make_classification\n",
    "from sklearn.neighbors import NearestNeighbors\n",
    "\n",
    "\n",
    "\n",
    "def get_tail_label(df):\n",
    "    \"\"\"\n",
    "    Give tail label colums of the given target dataframe\n",
    "\n",
    "    args\n",
    "    df: pandas.DataFrame, target label df whose tail label has to identified\n",
    "\n",
    "    return\n",
    "    tail_label: list, a list containing column name of all the tail label\n",
    "    \"\"\"\n",
    "    columns = df.columns\n",
    "    n = len(columns)\n",
    "    irpl = np.zeros(n)\n",
    "    for column in range(n):\n",
    "        irpl[column] = df[columns[column]].value_counts()[1]\n",
    "    irpl = max(irpl)/irpl\n",
    "    mir = np.average(irpl)\n",
    "    tail_label = []\n",
    "    for i in range(n):\n",
    "        if irpl[i] > mir:\n",
    "            tail_label.append(columns[i])\n",
    "    return tail_label\n",
    "\n",
    "def get_index(df):\n",
    "    \"\"\"\n",
    "    give the index of all tail_label rows\n",
    "    args\n",
    "    df: pandas.DataFrame, target label df from which index for tail label has to identified\n",
    "\n",
    "    return\n",
    "    index: list, a list containing index number of all the tail label\n",
    "    \"\"\"\n",
    "    tail_labels = get_tail_label(df)\n",
    "    index = set()\n",
    "    for tail_label in tail_labels:\n",
    "        sub_index = set(df[df[tail_label]==1].index)\n",
    "        index = index.union(sub_index)\n",
    "    return list(index)\n",
    "\n",
    "def get_minority_instace(X, y):\n",
    "    \"\"\"\n",
    "    Give minority dataframe containing all the tail labels\n",
    "\n",
    "    args\n",
    "    X: pandas.DataFrame, the feature vector dataframe\n",
    "    y: pandas.DataFrame, the target vector dataframe\n",
    "\n",
    "    return\n",
    "    X_sub: pandas.DataFrame, the feature vector minority dataframe\n",
    "    y_sub: pandas.DataFrame, the target vector minority dataframe\n",
    "    \"\"\"\n",
    "    index = get_index(y)\n",
    "    X_sub = X[X.index.isin(index)].reset_index(drop = True)\n",
    "    y_sub = y[y.index.isin(index)].reset_index(drop = True)\n",
    "    return X_sub, y_sub\n",
    "\n",
    "def nearest_neighbour(X):\n",
    "    \"\"\"\n",
    "    Give index of 5 nearest neighbor of all the instance\n",
    "\n",
    "    args\n",
    "    X: np.array, array whose nearest neighbor has to find\n",
    "\n",
    "    return\n",
    "    indices: list of list, index of 5 NN of each element in X\n",
    "    \"\"\"\n",
    "    nbs=NearestNeighbors(n_neighbors=5,metric='euclidean',algorithm='kd_tree').fit(X)\n",
    "    euclidean,indices= nbs.kneighbors(X)\n",
    "    return indices\n",
    "\n",
    "def MLSMOTE(X,y, n_sample):\n",
    "    \"\"\"\n",
    "    Give the augmented data using MLSMOTE algorithm\n",
    "\n",
    "    args\n",
    "    X: pandas.DataFrame, input vector DataFrame\n",
    "    y: pandas.DataFrame, feature vector dataframe\n",
    "    n_sample: int, number of newly generated sample\n",
    "\n",
    "    return\n",
    "    new_X: pandas.DataFrame, augmented feature vector data\n",
    "    target: pandas.DataFrame, augmented target vector data\n",
    "    \"\"\"\n",
    "    indices2 = nearest_neighbour(X)\n",
    "    n = len(indices2)\n",
    "    new_X = np.zeros((n_sample, X.shape[1]))\n",
    "    target = np.zeros((n_sample, y.shape[1]))\n",
    "    for i in range(n_sample):\n",
    "        reference = random.randint(0,n-1)\n",
    "        neighbour = random.choice(indices2[reference,1:])\n",
    "        all_point = indices2[reference]\n",
    "        nn_df = y[y.index.isin(all_point)]\n",
    "        ser = nn_df.sum(axis = 0, skipna = True)\n",
    "        target[i] = np.array([1 if val>2 else 0 for val in ser])\n",
    "        ratio = random.random()\n",
    "        gap = X.loc[reference,:] - X.loc[neighbour,:]\n",
    "        new_X[i] = np.array(X.loc[reference,:] + ratio * gap)\n",
    "    new_X = pd.DataFrame(new_X, columns=X.columns)\n",
    "    target = pd.DataFrame(target, columns=y.columns)\n",
    "    new_X = pd.concat([X, new_X], axis=0)\n",
    "    target = pd.concat([y, target], axis=0)\n",
    "    return new_X, target\n"
   ]
  },
  {
   "cell_type": "markdown",
   "metadata": {},
   "source": [
    "# 19 - split the dataset after the over sample technique"
   ]
  },
  {
   "cell_type": "code",
   "execution_count": 16,
   "metadata": {},
   "outputs": [
    {
     "name": "stdout",
     "output_type": "stream",
     "text": [
      "       0    1    2         3    4    5    6         7        8         9  ...  \\\n",
      "0    0.0  0.0  0.0  0.057459  0.0  0.0  0.0  0.000000  0.00000  0.000000  ...   \n",
      "1    0.0  0.0  0.0  0.000000  0.0  0.0  0.0  0.000000  0.14353  0.000000  ...   \n",
      "2    0.0  0.0  0.0  0.000000  0.0  0.0  0.0  0.000000  0.00000  0.000000  ...   \n",
      "3    0.0  0.0  0.0  0.000000  0.0  0.0  0.0  0.000000  0.00000  0.000000  ...   \n",
      "4    0.0  0.0  0.0  0.000000  0.0  0.0  0.0  0.000000  0.00000  0.000000  ...   \n",
      "..   ...  ...  ...       ...  ...  ...  ...       ...      ...       ...  ...   \n",
      "625  0.0  0.0  0.0  0.000000  0.0  0.0  0.0  0.000000  0.00000  0.000000  ...   \n",
      "626  0.0  0.0  0.0  0.000000  0.0  0.0  0.0  0.000000  0.00000  0.000000  ...   \n",
      "627  0.0  0.0  0.0  0.000000  0.0  0.0  0.0  0.000000  0.00000  0.000000  ...   \n",
      "628  0.0  0.0  0.0  0.040865  0.0  0.0  0.0  0.014697  0.00000  0.020986  ...   \n",
      "629  0.0  0.0  0.0  0.000000  0.0  0.0  0.0  0.138824  0.00000  0.000000  ...   \n",
      "\n",
      "          994  995      996  997  998  999  Unnamed: 0  DuplicatedCode  \\\n",
      "0    0.055614  0.0  0.00000  0.0  0.0  0.0        6671               1   \n",
      "1    0.000000  0.0  0.14037  0.0  0.0  0.0         877               1   \n",
      "2    0.000000  0.0  0.00000  0.0  0.0  0.0        5374               1   \n",
      "3    0.000000  0.0  0.00000  0.0  0.0  0.0        6826               1   \n",
      "4    0.000000  0.0  0.00000  0.0  0.0  0.0        3143               1   \n",
      "..        ...  ...      ...  ...  ...  ...         ...             ...   \n",
      "625  0.000000  0.0  0.00000  0.0  0.0  0.0        1528               1   \n",
      "626  0.000000  0.0  0.00000  0.0  0.0  0.0        4843               0   \n",
      "627  0.000000  0.0  0.00000  0.0  0.0  0.0        4117               1   \n",
      "628  0.000000  0.0  0.00000  0.0  0.0  0.0        3772               1   \n",
      "629  0.000000  0.0  0.00000  0.0  0.0  0.0         860               1   \n",
      "\n",
      "     LargeClass  LongMethod  \n",
      "0             0           0  \n",
      "1             0           1  \n",
      "2             0           0  \n",
      "3             0           1  \n",
      "4             0           0  \n",
      "..          ...         ...  \n",
      "625           0           1  \n",
      "626           0           0  \n",
      "627           0           0  \n",
      "628           0           0  \n",
      "629           0           0  \n",
      "\n",
      "[630 rows x 1004 columns]      ExtractInterface  ExtractMethod  ExtractSuperclass  InlineMethod  \\\n",
      "0                   0              0                  0             1   \n",
      "1                   0              1                  0             0   \n",
      "2                   0              0                  0             0   \n",
      "3                   0              1                  0             1   \n",
      "4                   0              0                  0             0   \n",
      "..                ...            ...                ...           ...   \n",
      "625                 0              1                  0             0   \n",
      "626                 0              0                  0             0   \n",
      "627                 0              0                  0             0   \n",
      "628                 0              0                  0             0   \n",
      "629                 0              0                  0             0   \n",
      "\n",
      "     MoveAndRenameClass  MoveAttribute  MoveClass  MoveMethod  \\\n",
      "0                     0              0          0           0   \n",
      "1                     0              0          0           0   \n",
      "2                     0              1          0           1   \n",
      "3                     1              1          0           1   \n",
      "4                     0              0          0           0   \n",
      "..                  ...            ...        ...         ...   \n",
      "625                   0              1          0           0   \n",
      "626                   0              0          1           0   \n",
      "627                   0              0          0           0   \n",
      "628                   0              0          0           0   \n",
      "629                   0              0          0           0   \n",
      "\n",
      "     PullUpAttribute  PullUpMethod  PushDownAttribute  PushDownMethod  \\\n",
      "0                  1             0                  0               0   \n",
      "1                  1             1                  0               0   \n",
      "2                  1             1                  0               0   \n",
      "3                  0             0                  0               0   \n",
      "4                  0             1                  0               0   \n",
      "..               ...           ...                ...             ...   \n",
      "625                0             1                  0               0   \n",
      "626                0             0                  1               1   \n",
      "627                1             0                  0               0   \n",
      "628                1             1                  0               0   \n",
      "629                1             1                  0               0   \n",
      "\n",
      "     RenameClass  RenameMethod  \n",
      "0              1             1  \n",
      "1              0             0  \n",
      "2              0             0  \n",
      "3              1             1  \n",
      "4              0             0  \n",
      "..           ...           ...  \n",
      "625            0             1  \n",
      "626            1             1  \n",
      "627            0             0  \n",
      "628            0             0  \n",
      "629            0             0  \n",
      "\n",
      "[630 rows x 14 columns]\n",
      "       0    1    2         3    4    5    6         7        8    9  ...  \\\n",
      "0    0.0  0.0  0.0  0.057459  0.0  0.0  0.0  0.000000  0.00000  0.0  ...   \n",
      "1    0.0  0.0  0.0  0.000000  0.0  0.0  0.0  0.000000  0.14353  0.0  ...   \n",
      "2    0.0  0.0  0.0  0.000000  0.0  0.0  0.0  0.000000  0.00000  0.0  ...   \n",
      "3    0.0  0.0  0.0  0.000000  0.0  0.0  0.0  0.000000  0.00000  0.0  ...   \n",
      "4    0.0  0.0  0.0  0.000000  0.0  0.0  0.0  0.000000  0.00000  0.0  ...   \n",
      "..   ...  ...  ...       ...  ...  ...  ...       ...      ...  ...  ...   \n",
      "995  0.0  0.0  0.0  0.000000  0.0  0.0  0.0 -0.013446  0.00000  0.0  ...   \n",
      "996  0.0  0.0  0.0  0.000000  0.0  0.0  0.0  0.000000  0.00000  0.0  ...   \n",
      "997  0.0  0.0  0.0  0.000000  0.0  0.0  0.0  0.000000  0.00000  0.0  ...   \n",
      "998  0.0  0.0  0.0  0.000000  0.0  0.0  0.0  0.000000  0.00000  0.0  ...   \n",
      "999  0.0  0.0  0.0  0.000000  0.0  0.0  0.0  0.000000  0.00000  0.0  ...   \n",
      "\n",
      "          994  995      996       997  998  999   Unnamed: 0  DuplicatedCode  \\\n",
      "0    0.055614  0.0  0.00000  0.000000  0.0  0.0  6671.000000             1.0   \n",
      "1    0.000000  0.0  0.14037  0.000000  0.0  0.0   877.000000             1.0   \n",
      "2    0.000000  0.0  0.00000  0.000000  0.0  0.0  5374.000000             1.0   \n",
      "3    0.000000  0.0  0.00000  0.000000  0.0  0.0  6826.000000             1.0   \n",
      "4    0.000000  0.0  0.00000  0.000000  0.0  0.0  3143.000000             1.0   \n",
      "..        ...  ...      ...       ...  ...  ...          ...             ...   \n",
      "995  0.000000  0.0  0.00000  0.462561  0.0  0.0  2953.193180             1.0   \n",
      "996  0.000000  0.0  0.00000  0.000000  0.0  0.0  5891.477897             1.0   \n",
      "997  0.000000  0.0  0.00000  0.000000  0.0  0.0  5602.388945             0.0   \n",
      "998  0.000000  0.0  0.00000  0.000000  0.0  0.0  2509.811883             1.0   \n",
      "999  0.000000  0.0  0.00000  0.000000  0.0  0.0   480.052575             1.0   \n",
      "\n",
      "     LargeClass  LongMethod  \n",
      "0      0.000000         0.0  \n",
      "1      0.000000         1.0  \n",
      "2      0.000000         0.0  \n",
      "3      0.000000         1.0  \n",
      "4      0.000000         0.0  \n",
      "..          ...         ...  \n",
      "995   -0.268940         1.0  \n",
      "996   -0.414917         1.0  \n",
      "997    1.634255         0.0  \n",
      "998    0.000000         0.0  \n",
      "999    1.000000         1.0  \n",
      "\n",
      "[1630 rows x 1004 columns]      ExtractInterface  ExtractMethod  ExtractSuperclass  InlineMethod  \\\n",
      "0                 0.0            0.0                0.0           1.0   \n",
      "1                 0.0            1.0                0.0           0.0   \n",
      "2                 0.0            0.0                0.0           0.0   \n",
      "3                 0.0            1.0                0.0           1.0   \n",
      "4                 0.0            0.0                0.0           0.0   \n",
      "..                ...            ...                ...           ...   \n",
      "995               0.0            1.0                0.0           0.0   \n",
      "996               0.0            0.0                0.0           0.0   \n",
      "997               0.0            0.0                0.0           0.0   \n",
      "998               0.0            0.0                0.0           0.0   \n",
      "999               0.0            1.0                1.0           0.0   \n",
      "\n",
      "     MoveAndRenameClass  MoveAttribute  MoveClass  MoveMethod  \\\n",
      "0                   0.0            0.0        0.0         0.0   \n",
      "1                   0.0            0.0        0.0         0.0   \n",
      "2                   0.0            1.0        0.0         1.0   \n",
      "3                   1.0            1.0        0.0         1.0   \n",
      "4                   0.0            0.0        0.0         0.0   \n",
      "..                  ...            ...        ...         ...   \n",
      "995                 0.0            0.0        0.0         1.0   \n",
      "996                 0.0            0.0        0.0         0.0   \n",
      "997                 0.0            0.0        0.0         0.0   \n",
      "998                 0.0            0.0        0.0         0.0   \n",
      "999                 0.0            0.0        0.0         0.0   \n",
      "\n",
      "     PullUpAttribute  PullUpMethod  PushDownAttribute  PushDownMethod  \\\n",
      "0                1.0           0.0                0.0             0.0   \n",
      "1                1.0           1.0                0.0             0.0   \n",
      "2                1.0           1.0                0.0             0.0   \n",
      "3                0.0           0.0                0.0             0.0   \n",
      "4                0.0           1.0                0.0             0.0   \n",
      "..               ...           ...                ...             ...   \n",
      "995              0.0           1.0                0.0             0.0   \n",
      "996              0.0           0.0                0.0             0.0   \n",
      "997              0.0           0.0                0.0             0.0   \n",
      "998              0.0           0.0                0.0             0.0   \n",
      "999              0.0           0.0                0.0             0.0   \n",
      "\n",
      "     RenameClass  RenameMethod  \n",
      "0            1.0           1.0  \n",
      "1            0.0           0.0  \n",
      "2            0.0           0.0  \n",
      "3            1.0           1.0  \n",
      "4            0.0           0.0  \n",
      "..           ...           ...  \n",
      "995          0.0           0.0  \n",
      "996          0.0           0.0  \n",
      "997          0.0           0.0  \n",
      "998          0.0           0.0  \n",
      "999          0.0           0.0  \n",
      "\n",
      "[1630 rows x 14 columns]\n",
      "ExtractInterface      147.0\n",
      "ExtractMethod         588.0\n",
      "ExtractSuperclass     119.0\n",
      "InlineMethod           62.0\n",
      "MoveAndRenameClass    241.0\n",
      "MoveAttribute         175.0\n",
      "MoveClass             152.0\n",
      "MoveMethod            348.0\n",
      "PullUpAttribute       196.0\n",
      "PullUpMethod          362.0\n",
      "PushDownAttribute     109.0\n",
      "PushDownMethod        129.0\n",
      "RenameClass           147.0\n",
      "RenameMethod          508.0\n",
      "dtype: float64 ExtractInterface        97\n",
      "ExtractMethod         2994\n",
      "ExtractSuperclass      102\n",
      "InlineMethod           469\n",
      "MoveAndRenameClass     155\n",
      "MoveAttribute          597\n",
      "MoveClass              441\n",
      "MoveMethod             945\n",
      "PullUpAttribute        135\n",
      "PullUpMethod           184\n",
      "PushDownAttribute       70\n",
      "PushDownMethod          85\n",
      "RenameClass            480\n",
      "RenameMethod          1843\n",
      "dtype: int64\n"
     ]
    }
   ],
   "source": [
    "    X_sub, y_sub = get_minority_instace(X_train, y_train)   #Getting minority instance of that datframe\n",
    "    X_res,y_res =MLSMOTE(X_sub, y_sub, 1000)     #Applying MLSMOTE to augment the dataframe\n",
    "    print(X_sub,y_sub)\n",
    "    print(X_res,y_res)\n",
    "    print(y_res.sum(),y_train.sum())"
   ]
  },
  {
   "cell_type": "markdown",
   "metadata": {},
   "source": [
    "# 20-Train The dataset after the over sampling"
   ]
  },
  {
   "cell_type": "code",
   "execution_count": 17,
   "metadata": {},
   "outputs": [
    {
     "name": "stdout",
     "output_type": "stream",
     "text": [
      "              precision    recall  f1-score   support\n",
      "\n",
      "           0       1.00      0.27      0.43        33\n",
      "           1       1.00      0.99      1.00       998\n",
      "           2       0.73      0.76      0.75        29\n",
      "           3       0.00      0.00      0.00       155\n",
      "           4       0.06      0.38      0.11        56\n",
      "           5       0.10      0.02      0.04       217\n",
      "           6       0.12      0.01      0.01       162\n",
      "           7       0.22      0.04      0.06       318\n",
      "           8       0.03      0.18      0.05        39\n",
      "           9       0.05      0.59      0.08        54\n",
      "          10       0.22      0.07      0.11        29\n",
      "          11       0.22      0.08      0.11        26\n",
      "          12       0.56      0.03      0.06       169\n",
      "          13       0.32      0.16      0.21       615\n",
      "\n",
      "   micro avg       0.44      0.42      0.43      2900\n",
      "   macro avg       0.33      0.26      0.22      2900\n",
      "weighted avg       0.51      0.42      0.42      2900\n",
      " samples avg       0.37      0.48      0.37      2900\n",
      "\n"
     ]
    },
    {
     "name": "stderr",
     "output_type": "stream",
     "text": [
      "C:\\Users\\GEM001\\anaconda3\\lib\\site-packages\\sklearn\\metrics\\_classification.py:1221: UndefinedMetricWarning: Precision and F-score are ill-defined and being set to 0.0 in labels with no predicted samples. Use `zero_division` parameter to control this behavior.\n",
      "  _warn_prf(average, modifier, msg_start, len(result))\n",
      "C:\\Users\\GEM001\\anaconda3\\lib\\site-packages\\sklearn\\metrics\\_classification.py:1221: UndefinedMetricWarning: Precision and F-score are ill-defined and being set to 0.0 in samples with no predicted labels. Use `zero_division` parameter to control this behavior.\n",
      "  _warn_prf(average, modifier, msg_start, len(result))\n"
     ]
    }
   ],
   "source": [
    "classifier = ClassifierChain(RandomForestClassifier(class_weight='balanced'))\n",
    "classifier.fit(X_res, y_res)\n",
    "\n",
    "predictions = classifier.predict(X_test)\n",
    "print(classification_report(y_test,predictions))\n"
   ]
  }
 ],
 "metadata": {
  "kernelspec": {
   "display_name": "Python 3",
   "language": "python",
   "name": "python3"
  },
  "language_info": {
   "codemirror_mode": {
    "name": "ipython",
    "version": 3
   },
   "file_extension": ".py",
   "mimetype": "text/x-python",
   "name": "python",
   "nbconvert_exporter": "python",
   "pygments_lexer": "ipython3",
   "version": "3.8.3"
  }
 },
 "nbformat": 4,
 "nbformat_minor": 4
}
